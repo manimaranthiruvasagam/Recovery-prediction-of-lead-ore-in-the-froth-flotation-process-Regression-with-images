{
 "cells": [
  {
   "cell_type": "code",
   "execution_count": 1,
   "metadata": {},
   "outputs": [
    {
     "name": "stderr",
     "output_type": "stream",
     "text": [
      "Using TensorFlow backend.\n"
     ]
    }
   ],
   "source": [
    "import numpy as np \n",
    "import pandas as pd\n",
    "import os, sys\n",
    "from time import time\n",
    "from scipy import ndimage\n",
    "from keras.preprocessing.image import ImageDataGenerator, array_to_img, img_to_array, load_img\n",
    "from sklearn.model_selection import train_test_split\n",
    "import keras\n",
    "from keras.preprocessing.image import ImageDataGenerator\n",
    "from keras import models, layers, optimizers, callbacks\n",
    "from keras.layers import Dense, Dropout, Flatten, Activation\n",
    "from keras.layers import Conv2D, MaxPooling2D, BatchNormalization,Convolution2D, MaxPooling2D\n",
    "from keras.models import Sequential\n",
    "import matplotlib.pyplot as plt\n",
    "from keras.utils import to_categorical\n",
    "from keras import models, layers"
   ]
  },
  {
   "cell_type": "code",
   "execution_count": 2,
   "metadata": {},
   "outputs": [],
   "source": [
    "folder = r\"E:\\Capstone - Image docs\\Regression with images\\Lead\\Final - All\"\n",
    "\n",
    "onlyfiles = [f for f in os.listdir(folder) if os.path.isfile(os.path.join(folder, f))]"
   ]
  },
  {
   "cell_type": "code",
   "execution_count": 3,
   "metadata": {},
   "outputs": [
    {
     "name": "stdout",
     "output_type": "stream",
     "text": [
      "Files in train_files: 350\n",
      "All images to array!\n"
     ]
    }
   ],
   "source": [
    "from scipy import ndimage\n",
    "from keras.preprocessing.image import ImageDataGenerator, array_to_img, img_to_array, load_img\n",
    "\n",
    "train_files = []\n",
    "y_train = []\n",
    "i=0\n",
    "for _file in onlyfiles:\n",
    "    train_files.append(_file)\n",
    "    label_in_file = _file.find(\".\")\n",
    "    y_train.append(int(_file[0:label_in_file]))\n",
    "    \n",
    "print(\"Files in train_files: %d\" % len(train_files))\n",
    "\n",
    "# Original Dimensions\n",
    "image_width = 128\n",
    "image_height = 128\n",
    "ratio = 1\n",
    "\n",
    "image_width = int(image_width / ratio)\n",
    "image_height = int(image_height / ratio)\n",
    "\n",
    "channels = 3\n",
    "nb_classes = 1\n",
    "\n",
    "dataset = np.ndarray(shape=(len(train_files), image_height, image_width, channels),\n",
    "                     dtype=np.float32)\n",
    "\n",
    "i = 0\n",
    "for _file in train_files:\n",
    "    img = load_img(folder + \"/\" + _file)  # this is a PIL image\n",
    "    img.thumbnail((image_width, image_height))\n",
    "    # Convert to Numpy Array\n",
    "    x = img_to_array(img)  \n",
    "   \n",
    "    \n",
    "    # Normalize\n",
    "    x = (x - 128.0) / 128.0\n",
    "    dataset[i] = x\n",
    "    i += 1\n",
    "    \n",
    "   \n",
    "print(\"All images to array!\")"
   ]
  },
  {
   "cell_type": "code",
   "execution_count": 4,
   "metadata": {},
   "outputs": [
    {
     "name": "stdout",
     "output_type": "stream",
     "text": [
      "Train set size: 280, Val set size: 35, Test set size: 35\n"
     ]
    }
   ],
   "source": [
    "from sklearn.model_selection import train_test_split\n",
    "#Splitting \n",
    "X_train, X_test, y_train, y_test = train_test_split(dataset, y_train, test_size=0.2, random_state=33)\n",
    "X_test, X_val, y_test, y_val = train_test_split(X_test, y_test, test_size=0.5, random_state=33)\n",
    "print(\"Train set size: {0}, Val set size: {1}, Test set size: {2}\".format(len(X_train), len(X_val), len(X_test)))"
   ]
  },
  {
   "cell_type": "code",
   "execution_count": 5,
   "metadata": {},
   "outputs": [],
   "source": [
    "datagen = ImageDataGenerator(\n",
    "        rotation_range=90,\n",
    "        shear_range=0.2,\n",
    "        horizontal_flip=True,\n",
    "        fill_mode='nearest')\n",
    "\n",
    "datagen.fit(X_train)\n",
    "\n",
    "val_datagen = ImageDataGenerator(\n",
    "        rotation_range=90,\n",
    "        shear_range=0.2,\n",
    "        horizontal_flip=True,\n",
    "        fill_mode='nearest')\n",
    "\n",
    "val_datagen.fit(X_val)"
   ]
  },
  {
   "cell_type": "code",
   "execution_count": 6,
   "metadata": {},
   "outputs": [
    {
     "name": "stdout",
     "output_type": "stream",
     "text": [
      "WARNING:tensorflow:From C:\\Users\\Admin\\Anaconda3\\lib\\site-packages\\tensorflow\\python\\ops\\resource_variable_ops.py:435: colocate_with (from tensorflow.python.framework.ops) is deprecated and will be removed in a future version.\n",
      "Instructions for updating:\n",
      "Colocations handled automatically by placer.\n",
      "Model: \"sequential_1\"\n",
      "_________________________________________________________________\n",
      "Layer (type)                 Output Shape              Param #   \n",
      "=================================================================\n",
      "conv2d_1 (Conv2D)            (None, 126, 126, 32)      896       \n",
      "_________________________________________________________________\n",
      "max_pooling2d_1 (MaxPooling2 (None, 63, 63, 32)        0         \n",
      "_________________________________________________________________\n",
      "batch_normalization_1 (Batch (None, 63, 63, 32)        128       \n",
      "_________________________________________________________________\n",
      "conv2d_2 (Conv2D)            (None, 61, 61, 64)        18496     \n",
      "_________________________________________________________________\n",
      "max_pooling2d_2 (MaxPooling2 (None, 30, 30, 64)        0         \n",
      "_________________________________________________________________\n",
      "batch_normalization_2 (Batch (None, 30, 30, 64)        256       \n",
      "_________________________________________________________________\n",
      "conv2d_3 (Conv2D)            (None, 28, 28, 96)        55392     \n",
      "_________________________________________________________________\n",
      "max_pooling2d_3 (MaxPooling2 (None, 14, 14, 96)        0         \n",
      "_________________________________________________________________\n",
      "batch_normalization_3 (Batch (None, 14, 14, 96)        384       \n",
      "_________________________________________________________________\n",
      "conv2d_4 (Conv2D)            (None, 12, 12, 128)       110720    \n",
      "_________________________________________________________________\n",
      "max_pooling2d_4 (MaxPooling2 (None, 6, 6, 128)         0         \n",
      "_________________________________________________________________\n",
      "batch_normalization_4 (Batch (None, 6, 6, 128)         512       \n",
      "_________________________________________________________________\n",
      "dropout_1 (Dropout)          (None, 6, 6, 128)         0         \n",
      "_________________________________________________________________\n",
      "flatten_1 (Flatten)          (None, 4608)              0         \n",
      "_________________________________________________________________\n",
      "dense_1 (Dense)              (None, 64)                294976    \n",
      "_________________________________________________________________\n",
      "dropout_2 (Dropout)          (None, 64)                0         \n",
      "_________________________________________________________________\n",
      "dense_2 (Dense)              (None, 32)                2080      \n",
      "_________________________________________________________________\n",
      "dropout_3 (Dropout)          (None, 32)                0         \n",
      "_________________________________________________________________\n",
      "dense_3 (Dense)              (None, 1)                 33        \n",
      "=================================================================\n",
      "Total params: 483,873\n",
      "Trainable params: 483,233\n",
      "Non-trainable params: 640\n",
      "_________________________________________________________________\n"
     ]
    }
   ],
   "source": [
    "# CNN Architecture\n",
    "model = Sequential()\n",
    "model.add(Conv2D(32, kernel_size = (3, 3), activation='relu', input_shape=(128,128,3)))\n",
    "model.add(MaxPooling2D(pool_size=(2,2)))\n",
    "model.add(BatchNormalization())\n",
    "model.add(Conv2D(64, kernel_size=(3,3), activation='relu'))\n",
    "model.add(MaxPooling2D(pool_size=(2,2)))\n",
    "model.add(BatchNormalization())\n",
    "model.add(Conv2D(96, kernel_size=(3,3), activation='relu'))\n",
    "model.add(MaxPooling2D(pool_size=(2,2)))\n",
    "model.add(BatchNormalization())\n",
    "model.add(Conv2D(128, kernel_size=(3,3), activation='relu'))\n",
    "model.add(MaxPooling2D(pool_size=(2,2)))\n",
    "model.add(BatchNormalization())\n",
    "model.add(Dropout(0.2))\n",
    "model.add(Flatten())\n",
    "model.add(Dense(64, activation='relu'))\n",
    "model.add(Dropout(0.2))\n",
    "model.add(Dense(32, activation='relu'))\n",
    "model.add(Dropout(0.3))\n",
    "model.add(Dense(1, activation = 'linear'))\n",
    "model.summary()"
   ]
  },
  {
   "cell_type": "code",
   "execution_count": 21,
   "metadata": {},
   "outputs": [],
   "source": [
    "from keras import backend as K\n",
    "def rmse(y_true, y_pred): \n",
    "    return K.sqrt(K.mean(K.square(y_pred - y_true)))\n",
    "    "
   ]
  },
  {
   "cell_type": "code",
   "execution_count": 24,
   "metadata": {},
   "outputs": [],
   "source": [
    "model.compile(loss=rmse, optimizer='rmsprop', metrics=['mae'])"
   ]
  },
  {
   "cell_type": "code",
   "execution_count": 30,
   "metadata": {},
   "outputs": [
    {
     "name": "stderr",
     "output_type": "stream",
     "text": [
      "C:\\Users\\Admin\\Anaconda3\\lib\\site-packages\\ipykernel_launcher.py:6: UserWarning: The semantics of the Keras 2 argument `steps_per_epoch` is not the same as the Keras 1 argument `samples_per_epoch`. `steps_per_epoch` is the number of batches to draw from the generator at each epoch. Basically steps_per_epoch = samples_per_epoch/batch_size. Similarly `nb_val_samples`->`validation_steps` and `val_samples`->`steps` arguments have changed. Update your method calls accordingly.\n",
      "  \n",
      "C:\\Users\\Admin\\Anaconda3\\lib\\site-packages\\ipykernel_launcher.py:6: UserWarning: Update your `fit_generator` call to the Keras 2 API: `fit_generator(<keras.pre..., validation_data=<keras.pre..., verbose=1, steps_per_epoch=28, epochs=200, validation_steps=35)`\n",
      "  \n"
     ]
    },
    {
     "name": "stdout",
     "output_type": "stream",
     "text": [
      "Epoch 1/200\n",
      "28/28 [==============================] - 14s 514ms/step - loss: 8.3679 - mae: 6.4291 - val_loss: 4.5137 - val_mae: 4.4041\n",
      "Epoch 2/200\n",
      "28/28 [==============================] - 15s 546ms/step - loss: 8.2356 - mae: 6.1468 - val_loss: 6.1011 - val_mae: 4.6384\n",
      "Epoch 3/200\n",
      "28/28 [==============================] - 16s 567ms/step - loss: 7.5911 - mae: 5.8438 - val_loss: 4.9850 - val_mae: 4.3928\n",
      "Epoch 4/200\n",
      "28/28 [==============================] - 16s 580ms/step - loss: 8.4195 - mae: 6.6614 - val_loss: 8.8005 - val_mae: 4.4823\n",
      "Epoch 5/200\n",
      "28/28 [==============================] - 17s 590ms/step - loss: 8.2346 - mae: 6.3791 - val_loss: 4.0188 - val_mae: 5.1423\n",
      "Epoch 6/200\n",
      "28/28 [==============================] - 17s 591ms/step - loss: 8.2759 - mae: 6.4512 - val_loss: 8.9311 - val_mae: 8.0495\n",
      "Epoch 7/200\n",
      "28/28 [==============================] - 17s 608ms/step - loss: 8.4924 - mae: 6.5901 - val_loss: 6.7326 - val_mae: 4.4402\n",
      "Epoch 8/200\n",
      "28/28 [==============================] - 17s 593ms/step - loss: 7.2695 - mae: 5.7763 - val_loss: 6.7926 - val_mae: 5.6678\n",
      "Epoch 9/200\n",
      "28/28 [==============================] - 16s 574ms/step - loss: 7.5226 - mae: 5.7798 - val_loss: 3.2639 - val_mae: 3.8861\n",
      "Epoch 10/200\n",
      "28/28 [==============================] - 17s 592ms/step - loss: 8.7413 - mae: 6.6501 - val_loss: 5.9841 - val_mae: 4.5751\n",
      "Epoch 11/200\n",
      "28/28 [==============================] - 17s 604ms/step - loss: 8.3122 - mae: 6.5393 - val_loss: 10.8685 - val_mae: 5.2139\n",
      "Epoch 12/200\n",
      "28/28 [==============================] - 16s 585ms/step - loss: 7.4277 - mae: 5.9147 - val_loss: 5.7496 - val_mae: 4.8676\n",
      "Epoch 13/200\n",
      "28/28 [==============================] - 17s 598ms/step - loss: 8.0486 - mae: 6.1914 - val_loss: 4.1032 - val_mae: 4.7029\n",
      "Epoch 14/200\n",
      "28/28 [==============================] - 16s 588ms/step - loss: 7.5925 - mae: 5.9607 - val_loss: 2.1682 - val_mae: 5.1215\n",
      "Epoch 15/200\n",
      "28/28 [==============================] - 17s 590ms/step - loss: 7.6241 - mae: 5.6887 - val_loss: 4.7358 - val_mae: 5.8235\n",
      "Epoch 16/200\n",
      "28/28 [==============================] - 17s 595ms/step - loss: 8.3643 - mae: 6.3069 - val_loss: 6.6860 - val_mae: 6.0653\n",
      "Epoch 17/200\n",
      "28/28 [==============================] - 17s 600ms/step - loss: 8.2616 - mae: 6.2612 - val_loss: 9.2067 - val_mae: 6.2986\n",
      "Epoch 18/200\n",
      "28/28 [==============================] - 17s 592ms/step - loss: 7.5716 - mae: 5.8271 - val_loss: 6.4815 - val_mae: 6.3975\n",
      "Epoch 19/200\n",
      "28/28 [==============================] - 16s 584ms/step - loss: 7.6172 - mae: 6.0105 - val_loss: 8.5263 - val_mae: 7.7892\n",
      "Epoch 20/200\n",
      "28/28 [==============================] - 17s 597ms/step - loss: 7.4790 - mae: 5.7845 - val_loss: 5.9494 - val_mae: 7.0779\n",
      "Epoch 21/200\n",
      "28/28 [==============================] - 17s 597ms/step - loss: 8.0305 - mae: 6.1982 - val_loss: 7.9614 - val_mae: 6.6578\n",
      "Epoch 22/200\n",
      "28/28 [==============================] - 16s 583ms/step - loss: 8.1470 - mae: 6.3105 - val_loss: 3.9724 - val_mae: 4.7584\n",
      "Epoch 23/200\n",
      "28/28 [==============================] - 16s 585ms/step - loss: 7.8716 - mae: 6.2846 - val_loss: 4.7150 - val_mae: 4.8147\n",
      "Epoch 24/200\n",
      "28/28 [==============================] - 17s 596ms/step - loss: 7.4245 - mae: 5.8154 - val_loss: 2.6821 - val_mae: 5.0249\n",
      "Epoch 25/200\n",
      "28/28 [==============================] - 17s 594ms/step - loss: 8.3334 - mae: 6.3947 - val_loss: 8.9518 - val_mae: 6.5471\n",
      "Epoch 26/200\n",
      "28/28 [==============================] - 18s 629ms/step - loss: 8.0109 - mae: 6.1725 - val_loss: 2.8270 - val_mae: 4.3801\n",
      "Epoch 27/200\n",
      "28/28 [==============================] - 17s 611ms/step - loss: 7.5456 - mae: 5.9563 - val_loss: 9.9786 - val_mae: 3.9881\n",
      "Epoch 28/200\n",
      "28/28 [==============================] - 17s 597ms/step - loss: 8.1392 - mae: 6.3517 - val_loss: 1.7864 - val_mae: 4.7323\n",
      "Epoch 29/200\n",
      "28/28 [==============================] - 17s 594ms/step - loss: 8.5366 - mae: 6.7123 - val_loss: 5.8929 - val_mae: 4.2788\n",
      "Epoch 30/200\n",
      "28/28 [==============================] - 17s 604ms/step - loss: 8.1840 - mae: 6.4042 - val_loss: 7.3136 - val_mae: 3.9156\n",
      "Epoch 31/200\n",
      "28/28 [==============================] - 17s 601ms/step - loss: 8.6606 - mae: 6.5835 - val_loss: 7.5768 - val_mae: 4.6783\n",
      "Epoch 32/200\n",
      "28/28 [==============================] - 16s 583ms/step - loss: 8.3153 - mae: 6.4259 - val_loss: 6.6036 - val_mae: 4.1363\n",
      "Epoch 33/200\n",
      "28/28 [==============================] - 17s 592ms/step - loss: 8.0299 - mae: 6.1657 - val_loss: 9.7671 - val_mae: 4.9793\n",
      "Epoch 34/200\n",
      "28/28 [==============================] - 17s 595ms/step - loss: 7.6814 - mae: 5.9461 - val_loss: 5.7973 - val_mae: 5.5396\n",
      "Epoch 35/200\n",
      "28/28 [==============================] - 16s 583ms/step - loss: 8.0529 - mae: 6.2037 - val_loss: 9.6502 - val_mae: 5.6748\n",
      "Epoch 36/200\n",
      "28/28 [==============================] - 17s 592ms/step - loss: 7.8951 - mae: 6.2245 - val_loss: 4.3636 - val_mae: 4.4870\n",
      "Epoch 37/200\n",
      "28/28 [==============================] - 16s 586ms/step - loss: 8.1413 - mae: 6.1589 - val_loss: 11.5153 - val_mae: 7.5082\n",
      "Epoch 38/200\n",
      "28/28 [==============================] - 16s 586ms/step - loss: 7.9462 - mae: 6.0796 - val_loss: 4.7967 - val_mae: 4.7275\n",
      "Epoch 39/200\n",
      "28/28 [==============================] - 16s 583ms/step - loss: 7.8934 - mae: 6.2277 - val_loss: 4.5267 - val_mae: 5.0077\n",
      "Epoch 40/200\n",
      "28/28 [==============================] - 16s 584ms/step - loss: 7.8452 - mae: 6.0473 - val_loss: 3.8866 - val_mae: 6.1901\n",
      "Epoch 41/200\n",
      "28/28 [==============================] - 16s 588ms/step - loss: 8.4733 - mae: 6.7746 - val_loss: 8.0566 - val_mae: 7.3191\n",
      "Epoch 42/200\n",
      "28/28 [==============================] - 16s 582ms/step - loss: 7.1420 - mae: 5.5892 - val_loss: 2.9281 - val_mae: 3.8426\n",
      "Epoch 43/200\n",
      "28/28 [==============================] - 17s 605ms/step - loss: 7.3807 - mae: 5.6314 - val_loss: 10.4311 - val_mae: 7.2287\n",
      "Epoch 44/200\n",
      "28/28 [==============================] - 18s 637ms/step - loss: 8.0103 - mae: 6.3659 - val_loss: 2.0073 - val_mae: 4.1860\n",
      "Epoch 45/200\n",
      "28/28 [==============================] - 17s 613ms/step - loss: 7.7009 - mae: 6.1635 - val_loss: 5.6885 - val_mae: 7.0466\n",
      "Epoch 46/200\n",
      "28/28 [==============================] - 17s 606ms/step - loss: 7.8101 - mae: 6.3438 - val_loss: 2.7975 - val_mae: 4.0505\n",
      "Epoch 47/200\n",
      "28/28 [==============================] - 17s 607ms/step - loss: 7.5072 - mae: 6.0399 - val_loss: 5.6960 - val_mae: 5.2007\n",
      "Epoch 48/200\n",
      "28/28 [==============================] - 17s 604ms/step - loss: 7.3256 - mae: 5.8445 - val_loss: 3.8295 - val_mae: 5.2465\n",
      "Epoch 49/200\n",
      "28/28 [==============================] - 17s 604ms/step - loss: 7.5879 - mae: 5.8768 - val_loss: 3.9971 - val_mae: 4.1456\n",
      "Epoch 50/200\n",
      "28/28 [==============================] - 17s 607ms/step - loss: 7.0736 - mae: 5.4817 - val_loss: 4.1837 - val_mae: 4.3304\n",
      "Epoch 51/200\n",
      "28/28 [==============================] - 17s 603ms/step - loss: 8.0252 - mae: 6.1682 - val_loss: 9.8152 - val_mae: 5.4501\n",
      "Epoch 52/200\n",
      "28/28 [==============================] - 17s 611ms/step - loss: 7.0662 - mae: 5.5064 - val_loss: 3.9131 - val_mae: 4.9503\n",
      "Epoch 53/200\n",
      "28/28 [==============================] - 17s 608ms/step - loss: 7.4787 - mae: 5.6301 - val_loss: 6.9493 - val_mae: 4.3288\n",
      "Epoch 54/200\n",
      "28/28 [==============================] - 18s 630ms/step - loss: 7.4213 - mae: 5.8624 - val_loss: 6.7393 - val_mae: 5.4898\n",
      "Epoch 55/200\n",
      "28/28 [==============================] - 17s 617ms/step - loss: 7.4405 - mae: 5.9512 - val_loss: 10.8109 - val_mae: 8.0487\n",
      "Epoch 56/200\n",
      "28/28 [==============================] - 17s 620ms/step - loss: 7.8163 - mae: 6.0513 - val_loss: 6.0656 - val_mae: 4.2485\n",
      "Epoch 57/200\n",
      "28/28 [==============================] - 17s 607ms/step - loss: 7.7731 - mae: 5.9800 - val_loss: 10.1540 - val_mae: 5.8425\n",
      "Epoch 58/200\n",
      "28/28 [==============================] - 17s 606ms/step - loss: 7.6452 - mae: 6.0723 - val_loss: 3.4717 - val_mae: 3.9640\n",
      "Epoch 59/200\n",
      "28/28 [==============================] - 17s 604ms/step - loss: 7.3993 - mae: 5.9932 - val_loss: 2.6625 - val_mae: 5.0201\n",
      "Epoch 60/200\n",
      "28/28 [==============================] - 17s 611ms/step - loss: 7.9312 - mae: 6.1590 - val_loss: 2.2231 - val_mae: 4.5441\n",
      "Epoch 61/200\n",
      "28/28 [==============================] - 17s 606ms/step - loss: 7.8430 - mae: 6.2230 - val_loss: 3.8743 - val_mae: 4.2751\n"
     ]
    },
    {
     "name": "stdout",
     "output_type": "stream",
     "text": [
      "Epoch 62/200\n",
      "28/28 [==============================] - 17s 598ms/step - loss: 8.2768 - mae: 6.2890 - val_loss: 5.3446 - val_mae: 5.3338\n",
      "Epoch 63/200\n",
      "28/28 [==============================] - 17s 605ms/step - loss: 7.5274 - mae: 5.9707 - val_loss: 12.1764 - val_mae: 4.8866\n",
      "Epoch 64/200\n",
      "28/28 [==============================] - 16s 588ms/step - loss: 6.6628 - mae: 5.2899 - val_loss: 6.0724 - val_mae: 4.7055\n",
      "Epoch 65/200\n",
      "28/28 [==============================] - 18s 634ms/step - loss: 7.4500 - mae: 5.8522 - val_loss: 6.7348 - val_mae: 6.6875\n",
      "Epoch 66/200\n",
      "28/28 [==============================] - 18s 644ms/step - loss: 7.9337 - mae: 6.0587 - val_loss: 5.2963 - val_mae: 5.2571\n",
      "Epoch 67/200\n",
      "28/28 [==============================] - 17s 613ms/step - loss: 7.6449 - mae: 5.9377 - val_loss: 5.4856 - val_mae: 4.5852\n",
      "Epoch 68/200\n",
      "28/28 [==============================] - 17s 590ms/step - loss: 7.9280 - mae: 6.3829 - val_loss: 6.5310 - val_mae: 5.0568\n",
      "Epoch 69/200\n",
      "28/28 [==============================] - 16s 585ms/step - loss: 7.9672 - mae: 6.1197 - val_loss: 3.0521 - val_mae: 4.4117\n",
      "Epoch 70/200\n",
      "28/28 [==============================] - 16s 586ms/step - loss: 7.2829 - mae: 5.6013 - val_loss: 6.4214 - val_mae: 4.6723\n",
      "Epoch 71/200\n",
      "28/28 [==============================] - 16s 581ms/step - loss: 8.1463 - mae: 6.2407 - val_loss: 9.5295 - val_mae: 5.1557\n",
      "Epoch 72/200\n",
      "28/28 [==============================] - 17s 591ms/step - loss: 7.1254 - mae: 5.6187 - val_loss: 14.6924 - val_mae: 4.9480\n",
      "Epoch 73/200\n",
      "28/28 [==============================] - 17s 598ms/step - loss: 7.7191 - mae: 6.0402 - val_loss: 5.8517 - val_mae: 4.8176\n",
      "Epoch 74/200\n",
      "28/28 [==============================] - 16s 581ms/step - loss: 7.2182 - mae: 5.4730 - val_loss: 8.9819 - val_mae: 4.1882\n",
      "Epoch 75/200\n",
      "28/28 [==============================] - 16s 579ms/step - loss: 7.4533 - mae: 5.8640 - val_loss: 8.0701 - val_mae: 4.6325\n",
      "Epoch 76/200\n",
      "28/28 [==============================] - 16s 582ms/step - loss: 7.5160 - mae: 5.9158 - val_loss: 6.2300 - val_mae: 5.3293\n",
      "Epoch 77/200\n",
      "28/28 [==============================] - 16s 587ms/step - loss: 7.5950 - mae: 5.8644 - val_loss: 6.7356 - val_mae: 5.3408\n",
      "Epoch 78/200\n",
      "28/28 [==============================] - 16s 585ms/step - loss: 6.7570 - mae: 5.4334 - val_loss: 3.9683 - val_mae: 4.6758\n",
      "Epoch 79/200\n",
      "28/28 [==============================] - 16s 585ms/step - loss: 7.5227 - mae: 5.5096 - val_loss: 10.4520 - val_mae: 4.6523\n",
      "Epoch 80/200\n",
      "28/28 [==============================] - 16s 582ms/step - loss: 7.2369 - mae: 5.6226 - val_loss: 13.3862 - val_mae: 6.0473\n",
      "Epoch 81/200\n",
      "28/28 [==============================] - 16s 579ms/step - loss: 7.6635 - mae: 6.0406 - val_loss: 3.8725 - val_mae: 3.9595\n",
      "Epoch 82/200\n",
      "28/28 [==============================] - 16s 587ms/step - loss: 7.5825 - mae: 5.9521 - val_loss: 8.1808 - val_mae: 6.5221\n",
      "Epoch 83/200\n",
      "28/28 [==============================] - 17s 591ms/step - loss: 8.2506 - mae: 6.2940 - val_loss: 5.2901 - val_mae: 5.1431\n",
      "Epoch 84/200\n",
      "28/28 [==============================] - 16s 580ms/step - loss: 7.3818 - mae: 5.9647 - val_loss: 5.8816 - val_mae: 5.8729\n",
      "Epoch 85/200\n",
      "28/28 [==============================] - 16s 586ms/step - loss: 7.4761 - mae: 5.7313 - val_loss: 3.0960 - val_mae: 4.1402\n",
      "Epoch 86/200\n",
      "28/28 [==============================] - 16s 584ms/step - loss: 7.8019 - mae: 6.0003 - val_loss: 5.0428 - val_mae: 3.6645\n",
      "Epoch 87/200\n",
      "28/28 [==============================] - 16s 587ms/step - loss: 7.4122 - mae: 6.0354 - val_loss: 1.7871 - val_mae: 4.2530\n",
      "Epoch 88/200\n",
      "28/28 [==============================] - 16s 580ms/step - loss: 7.3315 - mae: 5.7522 - val_loss: 10.4099 - val_mae: 6.4910\n",
      "Epoch 89/200\n",
      "28/28 [==============================] - 16s 588ms/step - loss: 7.7113 - mae: 5.9759 - val_loss: 4.2303 - val_mae: 4.3182\n",
      "Epoch 90/200\n",
      "28/28 [==============================] - 16s 586ms/step - loss: 7.3759 - mae: 5.7055 - val_loss: 3.7233 - val_mae: 4.3698\n",
      "Epoch 91/200\n",
      "28/28 [==============================] - 17s 590ms/step - loss: 7.5441 - mae: 5.8038 - val_loss: 7.8793 - val_mae: 4.3420\n",
      "Epoch 92/200\n",
      "28/28 [==============================] - 16s 586ms/step - loss: 7.6385 - mae: 5.8813 - val_loss: 4.6714 - val_mae: 5.3953\n",
      "Epoch 93/200\n",
      "28/28 [==============================] - 16s 582ms/step - loss: 8.1958 - mae: 6.2132 - val_loss: 7.8133 - val_mae: 6.4889\n",
      "Epoch 94/200\n",
      "28/28 [==============================] - 16s 585ms/step - loss: 6.8089 - mae: 5.1854 - val_loss: 6.7022 - val_mae: 4.8819\n",
      "Epoch 95/200\n",
      "28/28 [==============================] - 16s 582ms/step - loss: 6.9643 - mae: 5.4397 - val_loss: 6.0741 - val_mae: 5.9591\n",
      "Epoch 96/200\n",
      "28/28 [==============================] - 16s 578ms/step - loss: 6.9829 - mae: 5.4902 - val_loss: 5.3084 - val_mae: 5.5193\n",
      "Epoch 97/200\n",
      "28/28 [==============================] - 17s 598ms/step - loss: 7.4756 - mae: 5.8868 - val_loss: 3.1340 - val_mae: 4.9104\n",
      "Epoch 98/200\n",
      "28/28 [==============================] - 16s 582ms/step - loss: 6.7594 - mae: 5.2962 - val_loss: 8.4975 - val_mae: 6.3984\n",
      "Epoch 99/200\n",
      "28/28 [==============================] - 16s 584ms/step - loss: 7.4677 - mae: 5.8382 - val_loss: 6.3387 - val_mae: 4.4959\n",
      "Epoch 100/200\n",
      "28/28 [==============================] - 16s 584ms/step - loss: 7.5251 - mae: 5.8111 - val_loss: 2.4395 - val_mae: 4.2611\n",
      "Epoch 101/200\n",
      "28/28 [==============================] - 17s 592ms/step - loss: 6.5562 - mae: 5.0798 - val_loss: 8.4720 - val_mae: 6.0311\n",
      "Epoch 102/200\n",
      "28/28 [==============================] - 16s 581ms/step - loss: 7.2355 - mae: 5.7829 - val_loss: 7.7006 - val_mae: 6.4530\n",
      "Epoch 103/200\n",
      "28/28 [==============================] - 16s 588ms/step - loss: 7.5585 - mae: 5.8063 - val_loss: 6.8940 - val_mae: 3.9423\n",
      "Epoch 104/200\n",
      "28/28 [==============================] - 16s 588ms/step - loss: 7.3521 - mae: 5.5568 - val_loss: 7.5843 - val_mae: 4.5507\n",
      "Epoch 105/200\n",
      "28/28 [==============================] - 16s 578ms/step - loss: 6.8954 - mae: 5.3277 - val_loss: 9.8890 - val_mae: 6.6148\n",
      "Epoch 106/200\n",
      "28/28 [==============================] - 16s 584ms/step - loss: 7.8968 - mae: 6.0146 - val_loss: 3.0078 - val_mae: 4.9957\n",
      "Epoch 107/200\n",
      "28/28 [==============================] - 17s 591ms/step - loss: 7.4768 - mae: 5.8487 - val_loss: 8.9859 - val_mae: 6.9853\n",
      "Epoch 108/200\n",
      "28/28 [==============================] - 16s 578ms/step - loss: 7.6938 - mae: 5.8978 - val_loss: 10.5083 - val_mae: 5.4023\n",
      "Epoch 109/200\n",
      "28/28 [==============================] - 16s 586ms/step - loss: 7.2812 - mae: 5.6062 - val_loss: 9.5351 - val_mae: 7.0465\n",
      "Epoch 110/200\n",
      "28/28 [==============================] - 17s 590ms/step - loss: 7.1017 - mae: 5.3917 - val_loss: 14.6827 - val_mae: 5.0050\n",
      "Epoch 111/200\n",
      "28/28 [==============================] - 16s 580ms/step - loss: 7.4438 - mae: 5.6392 - val_loss: 8.0508 - val_mae: 4.5051\n",
      "Epoch 112/200\n",
      "28/28 [==============================] - 16s 583ms/step - loss: 7.5230 - mae: 5.9087 - val_loss: 4.2337 - val_mae: 5.3968\n",
      "Epoch 113/200\n",
      "28/28 [==============================] - 16s 583ms/step - loss: 7.2123 - mae: 5.7472 - val_loss: 8.3186 - val_mae: 4.4969\n",
      "Epoch 114/200\n",
      "28/28 [==============================] - 16s 587ms/step - loss: 7.5895 - mae: 5.8372 - val_loss: 3.8167 - val_mae: 4.3062\n",
      "Epoch 115/200\n",
      "28/28 [==============================] - 16s 587ms/step - loss: 7.4656 - mae: 5.7490 - val_loss: 8.0713 - val_mae: 5.2297\n",
      "Epoch 116/200\n",
      "28/28 [==============================] - 16s 584ms/step - loss: 7.1927 - mae: 5.7396 - val_loss: 10.0716 - val_mae: 6.8076\n",
      "Epoch 117/200\n",
      "28/28 [==============================] - 16s 581ms/step - loss: 7.5177 - mae: 6.0253 - val_loss: 11.4617 - val_mae: 4.6833\n",
      "Epoch 118/200\n",
      "28/28 [==============================] - 16s 582ms/step - loss: 7.1542 - mae: 5.7458 - val_loss: 7.2658 - val_mae: 5.5907\n",
      "Epoch 119/200\n",
      "28/28 [==============================] - 16s 585ms/step - loss: 7.3749 - mae: 5.8292 - val_loss: 7.5998 - val_mae: 5.3836\n",
      "Epoch 120/200\n",
      "28/28 [==============================] - 16s 586ms/step - loss: 7.8000 - mae: 5.9825 - val_loss: 10.3088 - val_mae: 7.8173\n",
      "Epoch 121/200\n",
      "28/28 [==============================] - 17s 597ms/step - loss: 7.7916 - mae: 5.9997 - val_loss: 6.7768 - val_mae: 5.7260\n",
      "Epoch 122/200\n",
      "28/28 [==============================] - 17s 606ms/step - loss: 7.1351 - mae: 5.5963 - val_loss: 4.4080 - val_mae: 5.6713\n",
      "Epoch 123/200\n",
      "28/28 [==============================] - 16s 587ms/step - loss: 7.9783 - mae: 6.2318 - val_loss: 4.7325 - val_mae: 4.4268\n",
      "Epoch 124/200\n",
      "28/28 [==============================] - 16s 580ms/step - loss: 7.3366 - mae: 5.7380 - val_loss: 2.9917 - val_mae: 4.5878\n",
      "Epoch 125/200\n",
      "28/28 [==============================] - 16s 581ms/step - loss: 8.0515 - mae: 5.8559 - val_loss: 6.9935 - val_mae: 4.5691\n",
      "Epoch 126/200\n",
      "28/28 [==============================] - 16s 583ms/step - loss: 7.3216 - mae: 5.7733 - val_loss: 7.7797 - val_mae: 4.7146\n",
      "Epoch 127/200\n",
      "28/28 [==============================] - 16s 583ms/step - loss: 7.3264 - mae: 5.5890 - val_loss: 8.0016 - val_mae: 6.1162\n",
      "Epoch 128/200\n",
      "28/28 [==============================] - 16s 588ms/step - loss: 7.0615 - mae: 5.5806 - val_loss: 5.3640 - val_mae: 4.5330\n",
      "Epoch 129/200\n",
      "28/28 [==============================] - 17s 604ms/step - loss: 7.1505 - mae: 5.6430 - val_loss: 13.7348 - val_mae: 4.4864\n",
      "Epoch 130/200\n",
      "28/28 [==============================] - 17s 599ms/step - loss: 7.9189 - mae: 6.2869 - val_loss: 5.0467 - val_mae: 4.3017\n",
      "Epoch 131/200\n",
      "28/28 [==============================] - 17s 603ms/step - loss: 7.3032 - mae: 5.4705 - val_loss: 6.1969 - val_mae: 6.9710\n",
      "Epoch 132/200\n",
      "28/28 [==============================] - 17s 592ms/step - loss: 6.9226 - mae: 5.3987 - val_loss: 5.2366 - val_mae: 5.1994\n",
      "Epoch 133/200\n",
      "28/28 [==============================] - 17s 610ms/step - loss: 7.9969 - mae: 6.1207 - val_loss: 2.3571 - val_mae: 4.6569\n",
      "Epoch 134/200\n",
      "28/28 [==============================] - 17s 615ms/step - loss: 7.0278 - mae: 5.7284 - val_loss: 12.9684 - val_mae: 10.7113\n",
      "Epoch 135/200\n",
      "28/28 [==============================] - 17s 596ms/step - loss: 6.6064 - mae: 5.2308 - val_loss: 9.7585 - val_mae: 6.4135\n",
      "Epoch 136/200\n",
      "28/28 [==============================] - 17s 613ms/step - loss: 7.2807 - mae: 5.6020 - val_loss: 4.5709 - val_mae: 5.2480\n",
      "Epoch 137/200\n",
      "28/28 [==============================] - 17s 624ms/step - loss: 7.0972 - mae: 5.4991 - val_loss: 4.5824 - val_mae: 3.6957\n",
      "Epoch 138/200\n",
      "28/28 [==============================] - 17s 609ms/step - loss: 7.0284 - mae: 5.4583 - val_loss: 9.1291 - val_mae: 6.4552\n",
      "Epoch 139/200\n",
      "28/28 [==============================] - 17s 598ms/step - loss: 7.8234 - mae: 6.0559 - val_loss: 4.0745 - val_mae: 4.2831\n",
      "Epoch 140/200\n",
      "28/28 [==============================] - 17s 625ms/step - loss: 7.1444 - mae: 5.4415 - val_loss: 14.2796 - val_mae: 4.2940\n",
      "Epoch 141/200\n",
      "28/28 [==============================] - 17s 601ms/step - loss: 7.2589 - mae: 5.5490 - val_loss: 3.9976 - val_mae: 5.4495\n",
      "Epoch 142/200\n",
      "28/28 [==============================] - 17s 590ms/step - loss: 7.2073 - mae: 5.6631 - val_loss: 6.2552 - val_mae: 4.8888\n",
      "Epoch 143/200\n",
      "28/28 [==============================] - 17s 591ms/step - loss: 7.6207 - mae: 5.7389 - val_loss: 7.9788 - val_mae: 6.9480\n",
      "Epoch 144/200\n",
      "28/28 [==============================] - 17s 589ms/step - loss: 7.1807 - mae: 5.5176 - val_loss: 5.3864 - val_mae: 6.1790\n",
      "Epoch 145/200\n",
      "28/28 [==============================] - 17s 592ms/step - loss: 7.7338 - mae: 5.8179 - val_loss: 9.0948 - val_mae: 4.8255\n",
      "Epoch 146/200\n",
      "28/28 [==============================] - 17s 591ms/step - loss: 7.0815 - mae: 5.3952 - val_loss: 3.2457 - val_mae: 4.2075\n",
      "Epoch 147/200\n",
      "28/28 [==============================] - 17s 602ms/step - loss: 6.2820 - mae: 4.9225 - val_loss: 3.6623 - val_mae: 4.3235\n",
      "Epoch 148/200\n",
      "28/28 [==============================] - 17s 599ms/step - loss: 7.0489 - mae: 5.4636 - val_loss: 3.0091 - val_mae: 4.0061\n",
      "Epoch 149/200\n",
      "28/28 [==============================] - 16s 585ms/step - loss: 6.8825 - mae: 5.2987 - val_loss: 2.9643 - val_mae: 4.2462\n",
      "Epoch 150/200\n",
      "28/28 [==============================] - 17s 603ms/step - loss: 6.7762 - mae: 5.1305 - val_loss: 5.5712 - val_mae: 4.5792\n",
      "Epoch 151/200\n",
      "28/28 [==============================] - 17s 590ms/step - loss: 7.0565 - mae: 5.4126 - val_loss: 6.2907 - val_mae: 4.4264\n",
      "Epoch 152/200\n",
      "28/28 [==============================] - 16s 589ms/step - loss: 6.8520 - mae: 5.2997 - val_loss: 10.3509 - val_mae: 4.6520\n",
      "Epoch 153/200\n",
      "28/28 [==============================] - 16s 587ms/step - loss: 7.7755 - mae: 5.9316 - val_loss: 12.5550 - val_mae: 6.4230\n",
      "Epoch 154/200\n",
      "28/28 [==============================] - 16s 578ms/step - loss: 6.8446 - mae: 5.4780 - val_loss: 5.2229 - val_mae: 4.0189\n",
      "Epoch 155/200\n",
      "28/28 [==============================] - 16s 580ms/step - loss: 6.9478 - mae: 5.3465 - val_loss: 5.0728 - val_mae: 5.0711\n",
      "Epoch 156/200\n",
      "28/28 [==============================] - 16s 577ms/step - loss: 7.2059 - mae: 5.5234 - val_loss: 3.1660 - val_mae: 4.3767\n",
      "Epoch 157/200\n",
      "28/28 [==============================] - 16s 586ms/step - loss: 6.8563 - mae: 5.1937 - val_loss: 3.9747 - val_mae: 4.7875\n",
      "Epoch 158/200\n",
      "28/28 [==============================] - 16s 589ms/step - loss: 6.6818 - mae: 5.1635 - val_loss: 3.4045 - val_mae: 4.4059\n",
      "Epoch 159/200\n",
      "28/28 [==============================] - 17s 610ms/step - loss: 6.8361 - mae: 5.3489 - val_loss: 6.0361 - val_mae: 4.7985\n",
      "Epoch 160/200\n",
      "28/28 [==============================] - 17s 608ms/step - loss: 6.8727 - mae: 5.2842 - val_loss: 3.4758 - val_mae: 4.3046\n",
      "Epoch 161/200\n",
      "28/28 [==============================] - 18s 631ms/step - loss: 7.3764 - mae: 5.3942 - val_loss: 8.3913 - val_mae: 5.8012\n",
      "Epoch 162/200\n",
      "28/28 [==============================] - 17s 620ms/step - loss: 6.9157 - mae: 5.3674 - val_loss: 4.3606 - val_mae: 4.5045\n",
      "Epoch 163/200\n",
      "28/28 [==============================] - 17s 599ms/step - loss: 7.5483 - mae: 5.6334 - val_loss: 5.8916 - val_mae: 5.0050\n",
      "Epoch 164/200\n",
      "28/28 [==============================] - 17s 597ms/step - loss: 6.9718 - mae: 5.3303 - val_loss: 6.1224 - val_mae: 5.9369\n",
      "Epoch 165/200\n",
      "28/28 [==============================] - 17s 602ms/step - loss: 6.9691 - mae: 5.4559 - val_loss: 9.3184 - val_mae: 5.2011\n",
      "Epoch 166/200\n",
      "28/28 [==============================] - 17s 604ms/step - loss: 7.8693 - mae: 6.1693 - val_loss: 7.4632 - val_mae: 5.8739\n",
      "Epoch 167/200\n",
      "28/28 [==============================] - 16s 588ms/step - loss: 6.9553 - mae: 5.5000 - val_loss: 7.8708 - val_mae: 5.6558\n",
      "Epoch 168/200\n",
      "28/28 [==============================] - 17s 595ms/step - loss: 7.1398 - mae: 5.4223 - val_loss: 2.9798 - val_mae: 4.1019\n",
      "Epoch 169/200\n",
      "28/28 [==============================] - 16s 588ms/step - loss: 7.5286 - mae: 5.8122 - val_loss: 7.8895 - val_mae: 5.3995\n",
      "Epoch 170/200\n",
      "28/28 [==============================] - 17s 601ms/step - loss: 6.7635 - mae: 5.3310 - val_loss: 2.8582 - val_mae: 4.3748\n",
      "Epoch 171/200\n",
      "28/28 [==============================] - 16s 582ms/step - loss: 6.7774 - mae: 5.2324 - val_loss: 6.6451 - val_mae: 5.6489\n",
      "Epoch 172/200\n",
      "28/28 [==============================] - 17s 596ms/step - loss: 7.7341 - mae: 5.9209 - val_loss: 8.1064 - val_mae: 7.5111\n",
      "Epoch 173/200\n",
      "28/28 [==============================] - 17s 595ms/step - loss: 7.5547 - mae: 5.7895 - val_loss: 5.0147 - val_mae: 4.5740\n",
      "Epoch 174/200\n",
      "28/28 [==============================] - 16s 582ms/step - loss: 7.4432 - mae: 5.7414 - val_loss: 4.2490 - val_mae: 5.1223\n",
      "Epoch 175/200\n",
      "28/28 [==============================] - 16s 587ms/step - loss: 6.6973 - mae: 5.3473 - val_loss: 6.6977 - val_mae: 6.0678\n",
      "Epoch 176/200\n",
      "28/28 [==============================] - 18s 627ms/step - loss: 7.1032 - mae: 5.5733 - val_loss: 4.7709 - val_mae: 4.9475\n",
      "Epoch 177/200\n",
      "28/28 [==============================] - 17s 610ms/step - loss: 7.2769 - mae: 5.7232 - val_loss: 11.8040 - val_mae: 8.6596\n",
      "Epoch 178/200\n",
      "28/28 [==============================] - 16s 577ms/step - loss: 6.7361 - mae: 5.4040 - val_loss: 3.3382 - val_mae: 4.1472\n",
      "Epoch 179/200\n",
      "28/28 [==============================] - 17s 593ms/step - loss: 6.7579 - mae: 5.2957 - val_loss: 5.2761 - val_mae: 4.6822\n",
      "Epoch 180/200\n",
      "28/28 [==============================] - 16s 583ms/step - loss: 6.8323 - mae: 5.1684 - val_loss: 3.1916 - val_mae: 4.2322\n",
      "Epoch 181/200\n",
      "28/28 [==============================] - 17s 604ms/step - loss: 6.3635 - mae: 5.0657 - val_loss: 8.8490 - val_mae: 8.2571\n",
      "Epoch 182/200\n"
     ]
    },
    {
     "name": "stdout",
     "output_type": "stream",
     "text": [
      "28/28 [==============================] - 17s 599ms/step - loss: 6.9293 - mae: 5.3358 - val_loss: 7.5315 - val_mae: 4.0813\n",
      "Epoch 183/200\n",
      "28/28 [==============================] - 17s 595ms/step - loss: 7.0905 - mae: 5.5397 - val_loss: 12.4288 - val_mae: 4.8411\n",
      "Epoch 184/200\n",
      "28/28 [==============================] - 16s 580ms/step - loss: 7.5336 - mae: 5.5728 - val_loss: 4.2343 - val_mae: 4.0626\n",
      "Epoch 185/200\n",
      "28/28 [==============================] - 16s 586ms/step - loss: 7.2932 - mae: 5.5951 - val_loss: 9.0446 - val_mae: 4.7698\n",
      "Epoch 186/200\n",
      "28/28 [==============================] - 17s 608ms/step - loss: 7.2613 - mae: 5.6663 - val_loss: 7.2717 - val_mae: 8.0136\n",
      "Epoch 187/200\n",
      "28/28 [==============================] - 17s 591ms/step - loss: 7.6065 - mae: 5.7506 - val_loss: 6.8877 - val_mae: 6.5615\n",
      "Epoch 188/200\n",
      "28/28 [==============================] - 16s 588ms/step - loss: 7.5557 - mae: 5.5525 - val_loss: 5.7709 - val_mae: 6.3819\n",
      "Epoch 189/200\n",
      "28/28 [==============================] - 16s 588ms/step - loss: 7.5899 - mae: 5.7729 - val_loss: 3.8046 - val_mae: 4.1462\n",
      "Epoch 190/200\n",
      "28/28 [==============================] - 16s 582ms/step - loss: 5.9156 - mae: 4.6575 - val_loss: 3.8284 - val_mae: 4.2360\n",
      "Epoch 191/200\n",
      "28/28 [==============================] - 16s 575ms/step - loss: 7.1353 - mae: 5.5314 - val_loss: 7.9391 - val_mae: 5.7610\n",
      "Epoch 192/200\n",
      "28/28 [==============================] - 17s 590ms/step - loss: 6.9185 - mae: 5.4300 - val_loss: 4.6076 - val_mae: 5.3536\n",
      "Epoch 193/200\n",
      "28/28 [==============================] - 17s 607ms/step - loss: 6.8207 - mae: 5.2064 - val_loss: 4.1704 - val_mae: 4.6097\n",
      "Epoch 194/200\n",
      "28/28 [==============================] - 17s 600ms/step - loss: 6.9915 - mae: 5.5232 - val_loss: 2.5258 - val_mae: 3.7720\n",
      "Epoch 195/200\n",
      "28/28 [==============================] - 16s 581ms/step - loss: 6.6155 - mae: 5.2563 - val_loss: 5.0885 - val_mae: 4.1410\n",
      "Epoch 196/200\n",
      "28/28 [==============================] - 16s 582ms/step - loss: 7.5641 - mae: 5.8033 - val_loss: 6.4556 - val_mae: 4.0510\n",
      "Epoch 197/200\n",
      "28/28 [==============================] - 16s 588ms/step - loss: 7.4139 - mae: 5.7174 - val_loss: 9.4617 - val_mae: 4.6226\n",
      "Epoch 198/200\n",
      "28/28 [==============================] - 16s 586ms/step - loss: 6.5559 - mae: 5.2822 - val_loss: 9.9184 - val_mae: 4.6789\n",
      "Epoch 199/200\n",
      "28/28 [==============================] - 17s 594ms/step - loss: 6.8294 - mae: 5.2794 - val_loss: 11.8265 - val_mae: 5.1471\n",
      "Epoch 200/200\n",
      "28/28 [==============================] - 17s 590ms/step - loss: 6.7016 - mae: 5.2290 - val_loss: 3.4173 - val_mae: 5.7554\n"
     ]
    },
    {
     "data": {
      "text/plain": [
       "<keras.callbacks.callbacks.History at 0x49d9dc0da0>"
      ]
     },
     "execution_count": 30,
     "metadata": {},
     "output_type": "execute_result"
    }
   ],
   "source": [
    "model.fit_generator(datagen.flow(X_train, y_train, batch_size=10), \n",
    "                    samples_per_epoch=len(X_train),  \n",
    "                    nb_epoch=200, \n",
    "                    validation_data=val_datagen.flow(X_val, y_val, batch_size=10),\n",
    "                    nb_val_samples=len(X_val),\n",
    "                    verbose=1)"
   ]
  },
  {
   "cell_type": "code",
   "execution_count": 31,
   "metadata": {},
   "outputs": [],
   "source": [
    "\n",
    "predictions = model.predict(X_test)"
   ]
  },
  {
   "cell_type": "code",
   "execution_count": 32,
   "metadata": {},
   "outputs": [
    {
     "name": "stdout",
     "output_type": "stream",
     "text": [
      "True  Predicted  Error   \n",
      "   44         45        1\n",
      "   46         43        3\n",
      "   69         50       19\n",
      "   29         27        2\n",
      "   33         35        2\n",
      "   45         45        0\n",
      "   65         53       12\n",
      "   30         29        1\n",
      "   28         21        7\n",
      "   29         26        3\n"
     ]
    }
   ],
   "source": [
    "print(\"{0:5} {1:10} {2:8}\".format(\"True\", \"Predicted\", \"Error\"))\n",
    "for i in range(len(predictions[:10])):\n",
    "    print(\"{0:5} {1:10} {2:8}\".format(y_test[i], int(predictions[i]), abs(y_test[i] - int(predictions[i]))))\n",
    "    "
   ]
  },
  {
   "cell_type": "code",
   "execution_count": 3,
   "metadata": {},
   "outputs": [
    {
     "name": "stdout",
     "output_type": "stream",
     "text": [
      "root_mean_squared_error is : 7.6289\n",
      "mean_absolute_error is : 5.0000\n"
     ]
    }
   ],
   "source": [
    "from sklearn.metrics import mean_squared_error\n",
    "from sklearn.metrics import mean_absolute_error\n",
    "from math import sqrt\n",
    "\n",
    "# Given values \n",
    "Y_true = [44,46,69,29,33,45,65,30,28,29]  # Y_true = Y (original values) \n",
    "  \n",
    "# calculated values \n",
    "Y_pred = [45,43,50,27,35,45,53,29,21,26]  # Y_pred = Y' \n",
    "# Calculation of Mean Squared Error (MSE) \n",
    "a= sqrt(mean_squared_error(Y_true,Y_pred))\n",
    "b= mean_absolute_error(Y_true,Y_pred)\n",
    "print('root_mean_squared_error is : {:.4f}' .format(a))\n",
    "print('mean_absolute_error is : {:.4f}' .format(b))"
   ]
  },
  {
   "cell_type": "code",
   "execution_count": 4,
   "metadata": {},
   "outputs": [
    {
     "name": "stdout",
     "output_type": "stream",
     "text": [
      "0.8398530460637004\n"
     ]
    }
   ],
   "source": [
    "# r squared values \n",
    "import numpy as np\n",
    "correlation_matrix = np.corrcoef(Y_true,Y_pred)\n",
    "correlation_xy = correlation_matrix[0,1]\n",
    "r_squared = correlation_xy**2\n",
    "print(r_squared)"
   ]
  },
  {
   "cell_type": "code",
   "execution_count": 5,
   "metadata": {},
   "outputs": [],
   "source": [
    "#Feature extraction\n",
    "#importing libraries\n",
    "import pandas as pd\n",
    "import numpy as np\n",
    "import matplotlib.pyplot as plt\n",
    "from skimage.io import imread, imshow"
   ]
  },
  {
   "cell_type": "code",
   "execution_count": 6,
   "metadata": {},
   "outputs": [
    {
     "data": {
      "text/plain": [
       "<matplotlib.image.AxesImage at 0x8fd4cf6908>"
      ]
     },
     "execution_count": 6,
     "metadata": {},
     "output_type": "execute_result"
    },
    {
     "data": {
      "image/png": "[encoded data removed]",
      "text/plain": [
       "<Figure size 432x288 with 1 Axes>"
      ]
     },
     "metadata": {
      "needs_background": "light"
     },
     "output_type": "display_data"
    }
   ],
   "source": [
    "image = imread(r\"E:\\Capstone - Image docs\\Regression with images\\Lead\\All\\19.581.jpg\", as_gray=True)\n",
    "imshow(image)"
   ]
  },
  {
   "cell_type": "code",
   "execution_count": 7,
   "metadata": {},
   "outputs": [
    {
     "data": {
      "text/plain": [
       "((128, 128),\n",
       " array([[0.55597686, 0.13915176, 0.18423843, ..., 0.52880863, 0.63076941,\n",
       "         0.56775647],\n",
       "        [0.56020392, 0.11873333, 0.1352302 , ..., 0.24226627, 0.22714549,\n",
       "         0.24675333],\n",
       "        [0.53834118, 0.12460431, 0.11562235, ..., 0.17987137, 0.17987137,\n",
       "         0.18828   ],\n",
       "        ...,\n",
       "        [0.57452902, 0.64877098, 0.64711922, ..., 0.65434431, 0.77534745,\n",
       "         0.65796824],\n",
       "        [0.5515651 , 0.68070902, 0.71687412, ..., 0.68515137, 0.81848471,\n",
       "         0.76777216],\n",
       "        [0.64736431, 0.80006039, 0.84685137, ..., 0.68515137, 0.84144863,\n",
       "         0.86916745]]))"
      ]
     },
     "execution_count": 7,
     "metadata": {},
     "output_type": "execute_result"
    }
   ],
   "source": [
    "#checking image shape \n",
    "image.shape, image"
   ]
  },
  {
   "cell_type": "markdown",
   "metadata": {},
   "source": [
    " Method 1: Grayscale Pixel Values as Features"
   ]
  },
  {
   "cell_type": "code",
   "execution_count": 8,
   "metadata": {},
   "outputs": [
    {
     "name": "stdout",
     "output_type": "stream",
     "text": [
      "\n",
      "\n",
      "Shape of the image =  (128, 128)\n",
      "\n",
      "\n",
      "Shape of the feature array =  (128, 128)\n",
      "\n",
      "\n",
      "Feature Array\n",
      "\n",
      " [[0.55597686 0.13915176 0.18423843 ... 0.52880863 0.63076941 0.56775647]\n",
      " [0.56020392 0.11873333 0.1352302  ... 0.24226627 0.22714549 0.24675333]\n",
      " [0.53834118 0.12460431 0.11562235 ... 0.17987137 0.17987137 0.18828   ]\n",
      " ...\n",
      " [0.57452902 0.64877098 0.64711922 ... 0.65434431 0.77534745 0.65796824]\n",
      " [0.5515651  0.68070902 0.71687412 ... 0.68515137 0.81848471 0.76777216]\n",
      " [0.64736431 0.80006039 0.84685137 ... 0.68515137 0.84144863 0.86916745]]\n"
     ]
    }
   ],
   "source": [
    "import numpy as np\n",
    "from skimage.io import imread, imshow\n",
    "image = imread(r'E:\\Capstone - Image docs\\Regression with images\\Lead\\All\\19.581.jpg', as_gray=True) \n",
    "\n",
    "# shape of the image\n",
    "print('\\n\\nShape of the image = ',image.shape)\n",
    "\n",
    "# create features\n",
    "features = np.reshape(image, (128,128))\n",
    "\n",
    "# shape of feature array\n",
    "print('\\n\\nShape of the feature array = ',features.shape)\n",
    "\n",
    "print('\\n\\nFeature Array\\n\\n',features)"
   ]
  },
  {
   "cell_type": "markdown",
   "metadata": {},
   "source": [
    "Method 2: Mean Pixel Value of Channels"
   ]
  },
  {
   "cell_type": "code",
   "execution_count": 9,
   "metadata": {},
   "outputs": [
    {
     "data": {
      "text/plain": [
       "(128, 128)"
      ]
     },
     "execution_count": 9,
     "metadata": {},
     "output_type": "execute_result"
    }
   ],
   "source": [
    "image = imread(r'E:\\Capstone - Image docs\\Regression with images\\Lead\\All\\19.581.jpg')\n",
    "feature_matrix = np.zeros((128,128)) \n",
    "feature_matrix.shape"
   ]
  },
  {
   "cell_type": "code",
   "execution_count": 10,
   "metadata": {},
   "outputs": [],
   "source": [
    "for i in range(0,image.shape[0]):\n",
    "    for j in range(0,image.shape[1]):\n",
    "        feature_matrix[i][j] = ((int(image[i,j,0]) + int(image[i,j,1]) + int(image[i,j,2]))/3)"
   ]
  },
  {
   "cell_type": "code",
   "execution_count": 13,
   "metadata": {},
   "outputs": [
    {
     "data": {
      "text/plain": [
       "(16384,)"
      ]
     },
     "execution_count": 13,
     "metadata": {},
     "output_type": "execute_result"
    }
   ],
   "source": [
    "features = np.reshape(feature_matrix, (128*128)) \n",
    "features.shape"
   ]
  },
  {
   "cell_type": "code",
   "execution_count": 14,
   "metadata": {},
   "outputs": [
    {
     "name": "stdout",
     "output_type": "stream",
     "text": [
      "\n",
      "Shape of the feature array =  (16384,)\n",
      "\n",
      "Feature Array\n",
      " [141.33333333  35.66666667  47.66666667 ... 172.         211.33333333\n",
      " 218.        ]\n"
     ]
    }
   ],
   "source": [
    "# shape of feature array\n",
    "print('\\nShape of the feature array = ',features.shape)\n",
    "print('\\nFeature Array\\n',features)"
   ]
  },
  {
   "cell_type": "markdown",
   "metadata": {},
   "source": [
    "Method 3: Extracting Edge Features"
   ]
  },
  {
   "cell_type": "code",
   "execution_count": 19,
   "metadata": {},
   "outputs": [
    {
     "data": {
      "text/plain": [
       "<matplotlib.image.AxesImage at 0x8fd50f3b38>"
      ]
     },
     "execution_count": 19,
     "metadata": {},
     "output_type": "execute_result"
    },
    {
     "data": {
      "image/png": "[encoded data removed]",
      "text/plain": [
       "<Figure size 432x288 with 2 Axes>"
      ]
     },
     "metadata": {
      "needs_background": "light"
     },
     "output_type": "display_data"
    }
   ],
   "source": [
    "#importing the required libraries\n",
    "import numpy as np\n",
    "from skimage.io import imread, imshow\n",
    "from skimage.filters import prewitt_h,prewitt_v\n",
    "import matplotlib.pyplot as plt\n",
    "%matplotlib inline\n",
    "\n",
    "#reading the image \n",
    "image = imread(r'E:\\Capstone - Image docs\\Regression with images\\Lead\\All\\19.581.jpg', as_gray=True)\n",
    "\n",
    "#calculating horizontal edges using prewitt kernel\n",
    "edges_prewitt_horizontal = prewitt_h(image)\n",
    "#calculating vertical edges using prewitt kernel\n",
    "edges_prewitt_vertical = prewitt_v(image)\n",
    "\n",
    "imshow(edges_prewitt_vertical, cmap='gray')"
   ]
  },
  {
   "cell_type": "code",
   "execution_count": null,
   "metadata": {},
   "outputs": [],
   "source": []
  },
  {
   "cell_type": "code",
   "execution_count": null,
   "metadata": {},
   "outputs": [],
   "source": []
  },
  {
   "cell_type": "code",
   "execution_count": null,
   "metadata": {},
   "outputs": [],
   "source": []
  }
 ],
 "metadata": {
  "kernelspec": {
   "display_name": "Python 3",
   "language": "python",
   "name": "python3"
  },
  "language_info": {
   "codemirror_mode": {
    "name": "ipython",
    "version": 3
   },
   "file_extension": ".py",
   "mimetype": "text/x-python",
   "name": "python",
   "nbconvert_exporter": "python",
   "pygments_lexer": "ipython3",
   "version": "3.7.3"
  }
 },
 "nbformat": 4,
 "nbformat_minor": 2
}
